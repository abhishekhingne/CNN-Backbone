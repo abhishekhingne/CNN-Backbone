{
  "nbformat": 4,
  "nbformat_minor": 0,
  "metadata": {
    "colab": {
      "name": "CNN_Layers.ipynb",
      "provenance": []
    },
    "kernelspec": {
      "name": "python3",
      "display_name": "Python 3"
    },
    "language_info": {
      "name": "python"
    },
    "accelerator": "GPU"
  },
  "cells": [
    {
      "cell_type": "code",
      "metadata": {
        "id": "X9zV3rG3TevP"
      },
      "source": [
        "import torch\n",
        "import torch.nn as nn"
      ],
      "execution_count": null,
      "outputs": []
    },
    {
      "cell_type": "code",
      "metadata": {
        "id": "xNUCskEzVxHj"
      },
      "source": [
        "#LeNet Architecture\n",
        "# (1,32,32) -> (5x5),s=1,p=0,c=6 -> avg pool (2x2),s=2 -> (5x5),s=1,p=0,c=16 -> avg pool (2x2),s=2 ->\n",
        "# Conv 5x5 to 120 channels-> Linear 120 -> Linear 84 -> Linear 10\n",
        "class LeNet(nn.Module):\n",
        "    def __init__(self, in_channels=1):\n",
        "        super(LeNet, self).__init__()\n",
        "        self.relu = nn.ReLU()\n",
        "        self.conv1 = nn.Conv2d(in_channels=in_channels, out_channels=6, kernel_size=(5,5), stride=(1,1), padding=(0,0))\n",
        "        self.pool = nn.AvgPool2d(kernel_size=(2,2), stride=(2,2))\n",
        "        self.conv2 = nn.Conv2d(in_channels=6, out_channels=16, kernel_size=(5,5), stride=(1,1), padding=(0,0))\n",
        "        self.conv3 = nn.Conv2d(in_channels=16, out_channels=120, kernel_size=(5,5), stride=(1,1), padding=(0,0))\n",
        "        self.fc1 = nn.Linear(120, 84)\n",
        "        self.out = nn.Linear(84, 10)\n",
        "\n",
        "    def forward(self, x):\n",
        "        x = self.relu(self.conv1(x))\n",
        "        x = self.pool(x)\n",
        "\n",
        "        x = self.relu(self.conv2(x))\n",
        "        x = self.pool(x)\n",
        "\n",
        "        x = self.relu(self.conv3(x)) #num_examples x 120 x 1 x 1 -> num_examples x 120\n",
        "        x = x.reshape(x.shape[0], -1)\n",
        "\n",
        "        x = self.relu(self.fc1(x))\n",
        "        x = self.out(x)\n",
        "        return x"
      ],
      "execution_count": null,
      "outputs": []
    },
    {
      "cell_type": "code",
      "metadata": {
        "colab": {
          "base_uri": "https://localhost:8080/"
        },
        "id": "ZVidVmYmYULr",
        "outputId": "d5af007b-43ac-4257-b892-f73b55b94845"
      },
      "source": [
        "x = torch.rand(64, 1, 32, 32)\n",
        "model = LeNet()\n",
        "print(model(x).shape)"
      ],
      "execution_count": null,
      "outputs": [
        {
          "output_type": "stream",
          "text": [
            "torch.Size([64, 10])\n"
          ],
          "name": "stdout"
        }
      ]
    },
    {
      "cell_type": "code",
      "metadata": {
        "id": "QTVkyyqbYdpo"
      },
      "source": [
        "#VGG16 Architecture\n",
        "vgg_16 = [64, 64, 'M', 128, 128, 'M', 256, 256, 256, 'M', 512, 512, 512, 'M', 512, 512, 512, 'M']\n",
        "#Then flatten and 4096 -> 4096 -> 1000 Linear layers\n",
        "class VGG16(nn.Module):\n",
        "    def __init__(self, in_channels=3, num_classes=1000):\n",
        "        super(VGG16, self).__init__()\n",
        "        self.in_channels = in_channels\n",
        "        self.num_classes = num_classes\n",
        "        self.conv_layers = self.create_conv_layers(vgg_16)\n",
        "        self.fc_layers = self.create_fc_layers()\n",
        "\n",
        "    def forward(self, x):\n",
        "        x = self.conv_layers(x)\n",
        "        x = x.reshape(x.shape[0], -1)\n",
        "        x = self.fc_layers(x)\n",
        "        return x\n",
        "    \n",
        "    def create_conv_layers(self, architecture):\n",
        "        layers = []\n",
        "        in_channels = self.in_channels\n",
        "\n",
        "        for x in architecture:\n",
        "            out_channels = x\n",
        "            if type(x) == int:\n",
        "                layers += [nn.Conv2d(in_channels=in_channels, out_channels=out_channels, \n",
        "                                     kernel_size=(3,3), stride=(1,1), padding=(1,1)),\n",
        "                           nn.BatchNorm2d(x), \n",
        "                           nn.ReLU()]\n",
        "                in_channels = x\n",
        "            elif x == 'M':\n",
        "                layers += [nn.MaxPool2d(kernel_size=(2,2), stride=(2,2))]\n",
        "        return nn.Sequential(*layers)\n",
        "    \n",
        "    def create_fc_layers(self):\n",
        "        layers = nn.Sequential(nn.Linear(512*7*7, 4096),\n",
        "                              nn.ReLU(),\n",
        "                              nn.Dropout(p=0.5),\n",
        "                              nn.Linear(4096, 4096),\n",
        "                              nn.ReLU(),\n",
        "                              nn.Dropout(p=0.5),\n",
        "                              nn.Linear(4096, self.num_classes)\n",
        "                              )\n",
        "        return layers"
      ],
      "execution_count": null,
      "outputs": []
    },
    {
      "cell_type": "code",
      "metadata": {
        "colab": {
          "base_uri": "https://localhost:8080/"
        },
        "id": "khV3InPdf_mg",
        "outputId": "bbdd13c5-4c46-429b-b7a6-4e9a9c51d111"
      },
      "source": [
        "x = torch.rand(1, 3, 224, 224)\n",
        "model = VGG16()\n",
        "print(model(x).shape)"
      ],
      "execution_count": null,
      "outputs": [
        {
          "output_type": "stream",
          "text": [
            "torch.Size([1, 1000])\n"
          ],
          "name": "stdout"
        }
      ]
    },
    {
      "cell_type": "code",
      "metadata": {
        "id": "e3aG2FcrgyMP"
      },
      "source": [
        "#Inception Net Architecture\n",
        "\n",
        "class InceptionNet(nn.Module):\n",
        "    def __init__(self, in_channels=3, num_classes=1000):\n",
        "        super(InceptionNet, self).__init__()\n",
        "\n",
        "        self.conv1 = conv_block(in_channels=in_channels, out_channels=64, kernel_size=7, stride=2, padding=3)\n",
        "        self.max_pool1 = nn.MaxPool2d(kernel_size=3, stride=2, padding=1)\n",
        "\n",
        "        self.conv2 = conv_block(in_channels=64, out_channels=192, kernel_size=3, stride=1, padding=1)\n",
        "        self.max_pool2 = nn.MaxPool2d(kernel_size=3, stride=2, padding=1)\n",
        "\n",
        "        self.inception3a = Inception_block(in_channels=192, out_1x1=64, red_3x3=96, \n",
        "                                           out_3x3=128, red_5x5=16, out_5x5=32, out_1x1_pool=32)\n",
        "        \n",
        "        self.inception3b = Inception_block(in_channels=256, out_1x1=128, red_3x3=128, \n",
        "                                           out_3x3=192, red_5x5=32, out_5x5=96, out_1x1_pool=64)\n",
        "        \n",
        "        self.max_pool3 = nn.MaxPool2d(kernel_size=3, stride=2, padding=1)\n",
        "\n",
        "        self.inception4a = Inception_block(in_channels=480, out_1x1=192, red_3x3=96, \n",
        "                                           out_3x3=208, red_5x5=16, out_5x5=48, out_1x1_pool=64)\n",
        "        \n",
        "        self.inception4b = Inception_block(in_channels=512, out_1x1=160, red_3x3=112, \n",
        "                                           out_3x3=224, red_5x5=24, out_5x5=64, out_1x1_pool=64)\n",
        "        \n",
        "        self.inception4c = Inception_block(in_channels=512, out_1x1=128, red_3x3=128, \n",
        "                                           out_3x3=256, red_5x5=24, out_5x5=64, out_1x1_pool=64)\n",
        "        \n",
        "        self.inception4d = Inception_block(in_channels=512, out_1x1=112, red_3x3=144, \n",
        "                                           out_3x3=288, red_5x5=32, out_5x5=64, out_1x1_pool=64)\n",
        "        \n",
        "        self.inception4e = Inception_block(in_channels=528, out_1x1=256, red_3x3=160, \n",
        "                                           out_3x3=320, red_5x5=32, out_5x5=128, out_1x1_pool=128)\n",
        "        \n",
        "        self.max_pool4 = nn.MaxPool2d(kernel_size=3, stride=2, padding=1)\n",
        "\n",
        "        self.inception5a = Inception_block(in_channels=832, out_1x1=256, red_3x3=160, \n",
        "                                           out_3x3=320, red_5x5=32, out_5x5=128, out_1x1_pool=128)\n",
        "        \n",
        "        self.inception5b = Inception_block(in_channels=832, out_1x1=384, red_3x3=192, \n",
        "                                           out_3x3=384, red_5x5=48, out_5x5=128, out_1x1_pool=128)\n",
        "        \n",
        "        self.avg_pool = nn.AvgPool2d(kernel_size=7, stride=1)\n",
        "\n",
        "        self.dropout = nn.Dropout(p=0.4)\n",
        "        self.out = nn.Linear(1024, 1000)\n",
        "\n",
        "    def forward(self, x):\n",
        "        x = self.conv1(x)\n",
        "        x = self.max_pool1(x)\n",
        "        x = self.conv2(x)\n",
        "        x = self.max_pool2(x)\n",
        "\n",
        "        x = self.inception3a(x)\n",
        "        x = self.inception3b(x)\n",
        "        x = self.max_pool3(x)\n",
        "\n",
        "        x = self.inception4a(x)\n",
        "        x = self.inception4b(x)\n",
        "        x = self.inception4c(x)\n",
        "        x = self.inception4d(x)\n",
        "        x = self.inception4e(x)\n",
        "        x = self.max_pool4(x)\n",
        "\n",
        "        x = self.inception5a(x)\n",
        "        x = self.inception5b(x)\n",
        "        x = self.avg_pool(x)\n",
        "        x = x.reshape(x.shape[0], -1)\n",
        "        x = self.dropout(x)\n",
        "        x = self.out(x)\n",
        "        return x\n",
        "\n",
        "class Inception_block(nn.Module):\n",
        "    def __init__(self, in_channels, out_1x1, red_3x3, out_3x3, red_5x5, out_5x5, out_1x1_pool):\n",
        "        super(Inception_block, self).__init__()\n",
        "        self.branch1 = conv_block(in_channels, out_1x1, kernel_size=1)\n",
        "\n",
        "        self.branch2 = nn.Sequential(conv_block(in_channels, red_3x3, kernel_size=1),\n",
        "                                     conv_block(red_3x3, out_3x3, kernel_size=3, padding=1))\n",
        "        \n",
        "        self.branch3 = nn.Sequential(conv_block(in_channels, red_5x5, kernel_size=1),\n",
        "                                     conv_block(red_5x5, out_5x5, kernel_size=5, padding=2))\n",
        "        \n",
        "        self.branch4 = nn.Sequential(nn.MaxPool2d(kernel_size=3, stride=1, padding=1),\n",
        "                                     conv_block(in_channels, out_1x1_pool, kernel_size=1))\n",
        "        \n",
        "    def forward(self, x):\n",
        "        return torch.cat([self.branch1(x), self.branch2(x), self.branch3(x), self.branch4(x)], 1)\n",
        "\n",
        "\n",
        "class conv_block(nn.Module):\n",
        "    def __init__(self, in_channels, out_channels, **kwargs):\n",
        "        super(conv_block, self).__init__()\n",
        "        self.relu = nn.ReLU()\n",
        "        self.conv_layer = nn.Conv2d(in_channels=in_channels, out_channels=out_channels, **kwargs)\n",
        "        self.batch_norm = nn.BatchNorm2d(out_channels)\n",
        "    \n",
        "    def forward(self, x):\n",
        "        return self.batch_norm(self.relu(self.conv_layer(x)))"
      ],
      "execution_count": null,
      "outputs": []
    },
    {
      "cell_type": "code",
      "metadata": {
        "colab": {
          "base_uri": "https://localhost:8080/"
        },
        "id": "21_fcBoZhINS",
        "outputId": "6b1c2210-a489-4fd8-f52b-69a832ed5672"
      },
      "source": [
        "x = torch.rand(1, 3, 224, 224)\n",
        "model = InceptionNet()\n",
        "print(model(x).shape)"
      ],
      "execution_count": null,
      "outputs": [
        {
          "output_type": "stream",
          "text": [
            "torch.Size([1, 1000])\n"
          ],
          "name": "stdout"
        }
      ]
    },
    {
      "cell_type": "code",
      "metadata": {
        "id": "MH-nVK_NhKoo"
      },
      "source": [
        "# ResNet Architecture\n",
        "class block(nn.Module):\n",
        "    def __init__(self, in_channels, out_channels, identity_downsample=None, stride=1):\n",
        "        super(block, self).__init__()\n",
        "        self.expansion = 4\n",
        "\n",
        "        self.conv1 = nn.Conv2d(in_channels=in_channels, out_channels=out_channels, kernel_size=1, stride=1, padding=0)\n",
        "        self.batch_norm1 = nn.BatchNorm2d(out_channels)\n",
        "\n",
        "        self.conv2 = nn.Conv2d(in_channels=out_channels, out_channels=out_channels, kernel_size=3, stride=stride, padding=1)\n",
        "        self.batch_norm2 = nn.BatchNorm2d(out_channels)\n",
        "\n",
        "        self.conv3 = nn.Conv2d(in_channels=out_channels, out_channels=out_channels*self.expansion, kernel_size=1, stride=1, padding=0)\n",
        "        self.batch_norm3 = nn.BatchNorm2d(out_channels*self.expansion)\n",
        "        \n",
        "        self.relu = nn.ReLU()\n",
        "        self.identity_downsample = identity_downsample\n",
        "\n",
        "    def forward(self, x):\n",
        "        identity = x\n",
        "        x = self.relu(self.batch_norm1(self.conv1(x)))\n",
        "        x = self.relu(self.batch_norm2(self.conv2(x)))\n",
        "        x = self.relu(self.batch_norm3(self.conv3(x)))\n",
        "\n",
        "        if self.identity_downsample is not None:\n",
        "            identity = self.identity_downsample(identity)\n",
        "\n",
        "        x += identity\n",
        "        x = self.relu(x)\n",
        "        return x\n",
        "\n",
        "class ResNet(nn.Module): #layers [3, 4, 6, 6] for ResNet50\n",
        "    def __init__(self, block, layers, image_channels=3, num_classes=1000):\n",
        "        super(ResNet, self).__init__()\n",
        "        self.in_channels = 64\n",
        "\n",
        "        self.conv1 = nn.Conv2d(in_channels=image_channels, out_channels=64, kernel_size=7, stride=2, padding=3)\n",
        "        self.batch_norm1 = nn.BatchNorm2d(64)\n",
        "        self.relu = nn.ReLU()\n",
        "        self.max_pool = nn.MaxPool2d(kernel_size=3, stride=2, padding=1)\n",
        "\n",
        "        self.layer1 = self._make_layers(block, layers[0], out_channels=64, stride=1)\n",
        "        self.layer2 = self._make_layers(block, layers[1], out_channels=128, stride=2)\n",
        "        self.layer3 = self._make_layers(block, layers[2], out_channels=256, stride=2)\n",
        "        self.layer4 = self._make_layers(block, layers[3], out_channels=512, stride=2)\n",
        "\n",
        "        self.avg_pool = nn.AdaptiveAvgPool2d((1, 1))\n",
        "        self.fc = nn.Linear(512*4, num_classes)\n",
        "\n",
        "    def forward(self, x):\n",
        "        x = self.relu(self.batch_norm1(self.conv1(x)))\n",
        "        x = self.max_pool(x)\n",
        "\n",
        "        x = self.layer1(x)\n",
        "        x = self.layer2(x)\n",
        "        x = self.layer3(x)\n",
        "        x = self.layer4(x)\n",
        "\n",
        "        x = self.avg_pool(x)\n",
        "        x = x.reshape(x.shape[0], -1)\n",
        "        x = self.fc(x)\n",
        "        return x\n",
        "\n",
        "    def _make_layers(self, block, num_residuals, out_channels, stride):\n",
        "        identity_downsample = None\n",
        "        layers = []\n",
        "\n",
        "        if stride != 1 or self.in_channels != out_channels*4:\n",
        "            identity_downsample = nn.Sequential(nn.Conv2d(in_channels=self.in_channels, out_channels=out_channels*4, \n",
        "                                                          kernel_size=1, stride=stride),\n",
        "                                                nn.BatchNorm2d(out_channels*4),\n",
        "                                                nn.ReLU())\n",
        "        layers.append(block(self.in_channels, out_channels, identity_downsample, stride))\n",
        "        self.in_channels = out_channels*4\n",
        "\n",
        "        for i in range(num_residuals - 1):\n",
        "            layers.append(block(self.in_channels, out_channels))\n",
        "        \n",
        "        return nn.Sequential(*layers)\n",
        "\n",
        "def ResNet50(image_channels=3, num_classes=1000):\n",
        "    return ResNet(block, layers=[3, 4, 6, 3], image_channels=3, num_classes=1000)"
      ],
      "execution_count": null,
      "outputs": []
    },
    {
      "cell_type": "code",
      "metadata": {
        "colab": {
          "base_uri": "https://localhost:8080/"
        },
        "id": "k3m4Yw1wnr8Q",
        "outputId": "74c5b4e1-c617-4ebf-cbaf-23cc6ffeeb17"
      },
      "source": [
        "x = torch.rand(1, 3, 224, 224)\n",
        "model = ResNet50()\n",
        "print(model(x).shape)"
      ],
      "execution_count": null,
      "outputs": [
        {
          "output_type": "stream",
          "text": [
            "torch.Size([1, 1000])\n"
          ],
          "name": "stdout"
        }
      ]
    },
    {
      "cell_type": "code",
      "metadata": {
        "id": "x_BCGsXYohAp"
      },
      "source": [
        ""
      ],
      "execution_count": null,
      "outputs": []
    }
  ]
}